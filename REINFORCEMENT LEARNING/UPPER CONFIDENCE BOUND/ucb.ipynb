{
 "cells": [
  {
   "attachments": {},
   "cell_type": "markdown",
   "metadata": {},
   "source": [
    "UPPER CONFIDENCE BOUND"
   ]
  },
  {
   "cell_type": "code",
   "execution_count": 130,
   "metadata": {},
   "outputs": [],
   "source": [
    "import numpy as np\n",
    "import pandas as pd\n",
    "import matplotlib.pyplot as plt\n",
    "import math\n"
   ]
  },
  {
   "cell_type": "code",
   "execution_count": 131,
   "metadata": {},
   "outputs": [],
   "source": [
    "dataset=pd.read_csv('Ads_CTR_Optimisation.csv')"
   ]
  },
  {
   "attachments": {},
   "cell_type": "markdown",
   "metadata": {},
   "source": [
    "IMPLEMENTING UCB\n"
   ]
  },
  {
   "cell_type": "code",
   "execution_count": 132,
   "metadata": {},
   "outputs": [],
   "source": [
    "#STEP 1\n",
    "N=10000\n",
    "d=10\n",
    "ads_selected=[]\n",
    "number_of_selection=[0]*d #each index is for one ad, and stores the no of times it is selected upto round n\n",
    "sum_of_reward=[0]*d #it is the sum of rewards for each ad, each index is for an ad\n",
    "total_reward=0"
   ]
  },
  {
   "cell_type": "code",
   "execution_count": 133,
   "metadata": {},
   "outputs": [],
   "source": [
    "#iterates through the users/round\n",
    "for n in range(0,N):\n",
    "    ad=0\n",
    "    max_ucb=0\n",
    "    #iterates through the ads\n",
    "    for i in range(0,d):\n",
    "        #STEP 2 \n",
    "        #find the ucb if ad is already selected\n",
    "        if(number_of_selection[i]>0):\n",
    "            avg_reward=sum_of_reward[i]/number_of_selection[i]  #(Ri(n)/Ni(n))\n",
    "            delta_i=math.sqrt(3/2*math.log(n+1)/number_of_selection[i])# delta i =sqrt(3/2 * log(n+1)/Ni(n)) (n+1 because at 0 exp is not defind i.e. div by 0)\n",
    "            ucb=avg_reward+delta_i\n",
    "        # find ucb id ad is not selected yet\n",
    "        else:\n",
    "            ucb=1e400 #ucb is assigned with a very large value which compell it to be selected beacuse ad with max ucb is selected\n",
    "        #STEP 3\n",
    "        #if ucb is greater than the existing max_ucb then update it and select the ad because it has ucb greater than max_ucb which means it has the highest ucb\n",
    "        if(ucb>max_ucb):\n",
    "            max_ucb=ucb\n",
    "            ad=i\n",
    "    ads_selected.append(ad) #appended the selected ad\n",
    "    number_of_selection[ad]+=1 #inc ad i selection count\n",
    "    sum_of_reward[ad]+= dataset.values[n%10000,ad] \n",
    "    total_reward+=dataset.values[n%10000,ad]"
   ]
  },
  {
   "cell_type": "code",
   "execution_count": 134,
   "metadata": {},
   "outputs": [
    {
     "data": {
      "image/png": "[encoded data removed]",
      "text/plain": [
       "<Figure size 432x288 with 1 Axes>"
      ]
     },
     "metadata": {
      "needs_background": "light"
     },
     "output_type": "display_data"
    }
   ],
   "source": [
    "plt.hist(ads_selected, color='red')\n",
    "plt.title(\"Histogram of Ads Selected\")\n",
    "plt.xlabel(\"Ads\")\n",
    "plt.ylabel(\"NUMBER OF TIMES EACH AD WAS SELECTED\")\n",
    "plt.show()"
   ]
  }
 ],
 "metadata": {
  "kernelspec": {
   "display_name": "Python 3",
   "language": "python",
   "name": "python3"
  },
  "language_info": {
   "codemirror_mode": {
    "name": "ipython",
    "version": 3
   },
   "file_extension": ".py",
   "mimetype": "text/x-python",
   "name": "python",
   "nbconvert_exporter": "python",
   "pygments_lexer": "ipython3",
   "version": "3.9.5"
  },
  "orig_nbformat": 4
 },
 "nbformat": 4,
 "nbformat_minor": 2
}
